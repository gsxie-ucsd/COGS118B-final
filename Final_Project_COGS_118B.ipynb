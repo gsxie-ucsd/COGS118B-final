{
  "nbformat": 4,
  "nbformat_minor": 0,
  "metadata": {
    "colab": {
      "name": "Final Project COGS 118B.ipynb",
      "provenance": [],
      "collapsed_sections": []
    },
    "kernelspec": {
      "name": "python3",
      "display_name": "Python 3"
    },
    "language_info": {
      "name": "python"
    }
  },
  "cells": [
    {
      "cell_type": "code",
      "execution_count": null,
      "metadata": {
        "id": "EpwAuOmpN-y3"
      },
      "outputs": [],
      "source": [
        "import numpy as np \n",
        "import tensorflow\n",
        "from tensorflow.keras.datasets import mnist\n",
        "import matplotlib.pyplot as plt\n",
        "from tqdm import tqdm\n",
        "from numpy.matlib import repmat\n",
        "from sklearn.preprocessing import normalize\n",
        "from sklearn.decomposition import PCA\n",
        "from scipy import linalg as LA\n",
        "from sklearn.metrics import rand_score, adjusted_rand_score"
      ]
    },
    {
      "cell_type": "code",
      "source": [
        "(train_set, train_label), (test_set, test_label) = mnist.load_data()\n",
        "train_set, train_label = train_set[:20000], train_label[:20000]\n",
        "train_set.shape\n",
        "\n",
        "train_set = train_set.reshape(20000,-1)/255\n",
        "train_set.shape"
      ],
      "metadata": {
        "colab": {
          "base_uri": "https://localhost:8080/"
        },
        "id": "tT2kra70ODIf",
        "outputId": "f4391343-d510-45ef-9582-3971988d5668"
      },
      "execution_count": null,
      "outputs": [
        {
          "output_type": "stream",
          "name": "stdout",
          "text": [
            "Downloading data from https://storage.googleapis.com/tensorflow/tf-keras-datasets/mnist.npz\n",
            "11493376/11490434 [==============================] - 0s 0us/step\n",
            "11501568/11490434 [==============================] - 0s 0us/step\n"
          ]
        },
        {
          "output_type": "execute_result",
          "data": {
            "text/plain": [
              "(20000, 784)"
            ]
          },
          "metadata": {},
          "execution_count": 2
        }
      ]
    },
    {
      "cell_type": "code",
      "source": [
        "def viewcolumn(columnvector):\n",
        "    plt.imshow(columnvector.reshape([28, 28], order='F'), cmap=plt.get_cmap('gray'))\n",
        "\n",
        "def accum(l):\n",
        "    new_l = []\n",
        "    cumsum = 0\n",
        "    for elt in l:\n",
        "        cumsum += elt\n",
        "        new_l.append(cumsum)\n",
        "    return new_l\n",
        "\n",
        "def calc_cov(X):\n",
        "  d = float(X.shape[1] - 1)\n",
        "  cov_out = np.dot(X.T, X.conj()) / d\n",
        "  return cov_out\n",
        "  "
      ],
      "metadata": {
        "id": "gmw__MgoOrb4"
      },
      "execution_count": null,
      "outputs": []
    },
    {
      "cell_type": "code",
      "source": [
        "mean_num = np.mean(train_set, axis=0)\n",
        "plt.imshow(mean_num.reshape(28, 28), cmap = plt.cm.binary)\n",
        "plt.axis('off')"
      ],
      "metadata": {
        "colab": {
          "base_uri": "https://localhost:8080/",
          "height": 265
        },
        "id": "Og9z_g0bO6mS",
        "outputId": "3c74b86a-ed63-4724-dc85-5b43974a5f93"
      },
      "execution_count": null,
      "outputs": [
        {
          "output_type": "execute_result",
          "data": {
            "text/plain": [
              "(-0.5, 27.5, 27.5, -0.5)"
            ]
          },
          "metadata": {},
          "execution_count": 4
        },
        {
          "output_type": "display_data",
          "data": {
            "text/plain": [
              "<Figure size 432x288 with 1 Axes>"
            ],
            "image/png": "[encoded data removed]"
          },
          "metadata": {
            "needs_background": "light"
          }
        }
      ]
    },
    {
      "cell_type": "code",
      "source": [
        "#Calculating PCA\n",
        "train_ms = np.subtract(train_set, mean_num)\n",
        "\n",
        "covariance_matrix = calc_cov(train_ms)\n",
        "\n",
        "eigenvalues, eigenvectors = LA.eigh(covariance_matrix)\n",
        "decreasing_order = np.argsort(eigenvalues)[::-1]\n",
        "eigenvalues = eigenvalues[decreasing_order]\n",
        "eigenvectors = eigenvectors[:, decreasing_order]\n",
        "\n",
        "transformed_data = np.dot(train_ms, eigenvectors)"
      ],
      "metadata": {
        "id": "kEXkoNe5OfTl"
      },
      "execution_count": null,
      "outputs": []
    },
    {
      "cell_type": "code",
      "source": [
        "plt.figure()\n",
        "plt.plot(np.arange(1, 785), eigenvalues)\n",
        "plt.xlabel('Principal Component Number')\n",
        "plt.ylabel('Variance Captured (eigenvalue)')\n",
        "plt.title('Scree plot of MNIST after PCA')\n",
        "\n",
        "plt.figure()\n",
        "plt.plot(np.arange(1, 785), eigenvalues/np.sum(eigenvalues) )\n",
        "plt.xlabel('Principal Component Number')\n",
        "plt.ylabel('Variance Captured (percentage)')\n",
        "plt.title('Scree plot of MNIST after PCA')\n",
        "\n",
        "cum_eig = accum(eigenvalues/np.sum(eigenvalues))\n",
        "plt.figure()\n",
        "plt.plot(np.arange(1, 785), cum_eig)\n",
        "plt.xlabel('Principal Component Number')\n",
        "plt.ylabel('Total Variance Captured after nth component (percentage)')\n",
        "plt.title('Scree plot of MNIST after PCA')"
      ],
      "metadata": {
        "colab": {
          "base_uri": "https://localhost:8080/",
          "height": 896
        },
        "id": "lkAsBvtzdnQw",
        "outputId": "ec84c36c-3151-4ef4-879f-fd89a4ddd20a"
      },
      "execution_count": null,
      "outputs": [
        {
          "output_type": "execute_result",
          "data": {
            "text/plain": [
              "Text(0.5, 1.0, 'Scree plot of MNIST after PCA')"
            ]
          },
          "metadata": {},
          "execution_count": 6
        },
        {
          "output_type": "display_data",
          "data": {
            "text/plain": [
              "<Figure size 432x288 with 1 Axes>"
            ],
            "image/png": "[encoded data removed]"
          },
          "metadata": {
            "needs_background": "light"
          }
        },
        {
          "output_type": "display_data",
          "data": {
            "text/plain": [
              "<Figure size 432x288 with 1 Axes>"
            ],
            "image/png": "[encoded data removed]"
          },
          "metadata": {
            "needs_background": "light"
          }
        },
        {
          "output_type": "display_data",
          "data": {
            "text/plain": [
              "<Figure size 432x288 with 1 Axes>"
            ],
            "image/png": "[encoded data removed]"
          },
          "metadata": {
            "needs_background": "light"
          }
        }
      ]
    },
    {
      "cell_type": "code",
      "source": [
        "def calcSqDistances(X, Kmus):\n",
        "    sqDmat = np.zeros((X.shape[0], Kmus.shape[0]))\n",
        "    \n",
        "    for i in range(Kmus.shape[0]):\n",
        "        sqDmat[:, i] = np.sum((np.abs(X-Kmus[i,  :]))**2, 1)\n",
        "    \n",
        "    return sqDmat\n",
        "\n",
        "def determineRnk(sqDmat):\n",
        "    Rnk = np.zeros(sqDmat.shape)\n",
        "    Rnk[np.arange(Rnk.shape[0]), np.argmin(sqDmat, 1)] = 1\n",
        "    return Rnk\n",
        "\n",
        "def recalcMus(X, Rnk):\n",
        "    Kmus = np.zeros((Rnk.shape[1], X.shape[1]))\n",
        "        \n",
        "    for i in range(Rnk.shape[1]):\n",
        "        Kmus[i, :] = np.sum(X[(Rnk[:, i] == 1), :]/np.sum(Rnk[:, i]), 0)\n",
        "    \n",
        "    return Kmus\n",
        "\n",
        "def runKMeans(train_data, K, seed=256):\n",
        "    N = train_data.shape[0]\n",
        "    D = train_data.shape[1]\n",
        "    \n",
        "    Kmus = np.zeros((K, D))\n",
        "\n",
        "    rng_gen = np.random.default_rng(seed=seed)\n",
        "    rand_idxs = rng_gen.choice(N, K, replace=False)\n",
        "\n",
        "    Kmus = train_data[rand_idxs, :]\n",
        "    \n",
        "    maxiter = 1000\n",
        "    \n",
        "    for i in tqdm(range(maxiter)):\n",
        "        sqDmat = calcSqDistances(train_data, Kmus)\n",
        "        Rnk = determineRnk(sqDmat)\n",
        "        \n",
        "        KmusOld = Kmus\n",
        "        Kmus = recalcMus(train_data, Rnk)\n",
        "        \n",
        "        if np.sum(np.abs(KmusOld-Kmus)) < 1e-6:\n",
        "            print('Finished in {} iterations'.format(i))\n",
        "            break\n",
        "        \n",
        "        cur_it = i\n",
        "\n",
        "    cluster_groups = np.argmin(sqDmat, 1)\n",
        "    return Kmus, cluster_groups, cur_it\n",
        "\n",
        "def get_cluster_plot(Kmus): \n",
        "    \n",
        "    if len(Kmus) == 10:\n",
        "        fig,axs = plt.subplots(2,5, figsize = (15,9))\n",
        "    else:\n",
        "        fig,axs = plt.subplots(4,5, figsize = (15,9))\n",
        "    \n",
        "    for i in range(len(Kmus)):\n",
        "        cluster = Kmus[i].reshape(28,-1) * 255\n",
        "        axs[i//5][i%5].imshow(cluster, cmap = plt.cm.binary)\n",
        "        axs[i//5][i%5].set_title(f'Cluster {i + 1}')\n",
        "        axs[i//5][i%5].axis('off')\n",
        "    fig.tight_layout(pad=2.0)"
      ],
      "metadata": {
        "id": "ks52HBuESS-M"
      },
      "execution_count": null,
      "outputs": []
    },
    {
      "cell_type": "code",
      "source": [
        "plt.figure()\n",
        "get_cluster_plot(eigenvectors[:, :10].T)"
      ],
      "metadata": {
        "colab": {
          "base_uri": "https://localhost:8080/",
          "height": 539
        },
        "id": "eVmPQtxoSrAY",
        "outputId": "5878481c-df2d-4cd9-e3b0-5891b79c8513"
      },
      "execution_count": null,
      "outputs": [
        {
          "output_type": "display_data",
          "data": {
            "text/plain": [
              "<Figure size 432x288 with 0 Axes>"
            ]
          },
          "metadata": {}
        },
        {
          "output_type": "display_data",
          "data": {
            "text/plain": [
              "<Figure size 1080x648 with 10 Axes>"
            ],
            "image/png": "[encoded data removed]"
          },
          "metadata": {
            "needs_background": "light"
          }
        }
      ]
    },
    {
      "cell_type": "code",
      "source": [
        "import time\n",
        "\n",
        "var_expl = [0.1, 0.2, 0.3, 0.4, 0.5, 0.6, 0.7, 0.8, 0.9, 1.0]\n",
        "seeds = [1, 2, 4, 8, 16, 32, 64, 128, 256, 512]\n",
        "\n",
        "durations = np.zeros((len(var_expl), len(var_expl)))\n",
        "iters = np.zeros((len(var_expl), len(var_expl)))\n",
        "rand_scores = np.zeros((len(var_expl), len(var_expl)))\n",
        "\n",
        "for j, seed in enumerate(seeds):\n",
        "    for i, explained in enumerate(var_expl):\n",
        "        if explained == 1.0:\n",
        "\n",
        "            start = time.time()\n",
        "            Kmus, cl, its = runKMeans(transformed_data, 10, seed=seed)\n",
        "            end = time.time()\n",
        "\n",
        "            durations[j][i] += (end-start)\n",
        "            iters[j][i] += its\n",
        "            rand_scores[j][i] += (adjusted_rand_score(train_label, cl))\n",
        "\n",
        "        else:\n",
        "\n",
        "            start = time.time()\n",
        "            Kmus, cl, its = runKMeans(transformed_data[:, :np.argmax(np.array(cum_eig)>explained)], 10, seed=seed)\n",
        "            end = time.time()\n",
        "\n",
        "            durations[j][i] += (end-start)\n",
        "            iters[j][i] += its\n",
        "            rand_scores[j][i] += (adjusted_rand_score(train_label, cl))\n",
        "\n",
        "\n"
      ],
      "metadata": {
        "colab": {
          "base_uri": "https://localhost:8080/"
        },
        "id": "ShxJoW5mGWcr",
        "outputId": "83822113-78ef-4ac4-9479-ce309e8709c9"
      },
      "execution_count": null,
      "outputs": [
        {
          "output_type": "stream",
          "name": "stderr",
          "text": [
            "  8%|▊         | 78/1000 [00:00<00:05, 169.27it/s]\n"
          ]
        },
        {
          "output_type": "stream",
          "name": "stdout",
          "text": [
            "Finished in 78 iterations\n"
          ]
        },
        {
          "output_type": "stream",
          "name": "stderr",
          "text": [
            "  5%|▌         | 51/1000 [00:00<00:16, 56.95it/s]\n"
          ]
        },
        {
          "output_type": "stream",
          "name": "stdout",
          "text": [
            "Finished in 51 iterations\n"
          ]
        },
        {
          "output_type": "stream",
          "name": "stderr",
          "text": [
            "  4%|▍         | 39/1000 [00:00<00:23, 41.74it/s]\n"
          ]
        },
        {
          "output_type": "stream",
          "name": "stdout",
          "text": [
            "Finished in 39 iterations\n"
          ]
        },
        {
          "output_type": "stream",
          "name": "stderr",
          "text": [
            "  2%|▎         | 25/1000 [00:00<00:18, 51.39it/s]\n"
          ]
        },
        {
          "output_type": "stream",
          "name": "stdout",
          "text": [
            "Finished in 25 iterations\n"
          ]
        },
        {
          "output_type": "stream",
          "name": "stderr",
          "text": [
            "  3%|▎         | 31/1000 [00:00<00:22, 42.99it/s]\n"
          ]
        },
        {
          "output_type": "stream",
          "name": "stdout",
          "text": [
            "Finished in 31 iterations\n"
          ]
        },
        {
          "output_type": "stream",
          "name": "stderr",
          "text": [
            "  5%|▍         | 48/1000 [00:01<00:25, 37.01it/s]\n"
          ]
        },
        {
          "output_type": "stream",
          "name": "stdout",
          "text": [
            "Finished in 48 iterations\n"
          ]
        },
        {
          "output_type": "stream",
          "name": "stderr",
          "text": [
            "  7%|▋         | 68/1000 [00:02<00:32, 28.92it/s]\n"
          ]
        },
        {
          "output_type": "stream",
          "name": "stdout",
          "text": [
            "Finished in 68 iterations\n"
          ]
        },
        {
          "output_type": "stream",
          "name": "stderr",
          "text": [
            "  8%|▊         | 77/1000 [00:03<00:47, 19.29it/s]\n"
          ]
        },
        {
          "output_type": "stream",
          "name": "stdout",
          "text": [
            "Finished in 77 iterations\n"
          ]
        },
        {
          "output_type": "stream",
          "name": "stderr",
          "text": [
            "  6%|▌         | 62/1000 [00:07<01:46,  8.83it/s]\n"
          ]
        },
        {
          "output_type": "stream",
          "name": "stdout",
          "text": [
            "Finished in 62 iterations\n"
          ]
        },
        {
          "output_type": "stream",
          "name": "stderr",
          "text": [
            "  7%|▋         | 73/1000 [00:54<11:35,  1.33it/s]\n"
          ]
        },
        {
          "output_type": "stream",
          "name": "stdout",
          "text": [
            "Finished in 73 iterations\n"
          ]
        },
        {
          "output_type": "stream",
          "name": "stderr",
          "text": [
            "  5%|▍         | 48/1000 [00:00<00:05, 170.49it/s]\n"
          ]
        },
        {
          "output_type": "stream",
          "name": "stdout",
          "text": [
            "Finished in 48 iterations\n"
          ]
        },
        {
          "output_type": "stream",
          "name": "stderr",
          "text": [
            " 10%|█         | 101/1000 [00:01<00:13, 67.95it/s]\n"
          ]
        },
        {
          "output_type": "stream",
          "name": "stdout",
          "text": [
            "Finished in 101 iterations\n"
          ]
        },
        {
          "output_type": "stream",
          "name": "stderr",
          "text": [
            "  6%|▌         | 57/1000 [00:00<00:16, 58.69it/s]\n"
          ]
        },
        {
          "output_type": "stream",
          "name": "stdout",
          "text": [
            "Finished in 57 iterations\n"
          ]
        },
        {
          "output_type": "stream",
          "name": "stderr",
          "text": [
            " 11%|█▏        | 114/1000 [00:02<00:16, 52.97it/s]\n"
          ]
        },
        {
          "output_type": "stream",
          "name": "stdout",
          "text": [
            "Finished in 114 iterations\n"
          ]
        },
        {
          "output_type": "stream",
          "name": "stderr",
          "text": [
            "  3%|▎         | 29/1000 [00:00<00:27, 35.85it/s]\n"
          ]
        },
        {
          "output_type": "stream",
          "name": "stdout",
          "text": [
            "Finished in 29 iterations\n"
          ]
        },
        {
          "output_type": "stream",
          "name": "stderr",
          "text": [
            "  8%|▊         | 82/1000 [00:02<00:27, 33.81it/s]\n"
          ]
        },
        {
          "output_type": "stream",
          "name": "stdout",
          "text": [
            "Finished in 82 iterations\n"
          ]
        },
        {
          "output_type": "stream",
          "name": "stderr",
          "text": [
            "  5%|▌         | 50/1000 [00:01<00:33, 28.26it/s]\n"
          ]
        },
        {
          "output_type": "stream",
          "name": "stdout",
          "text": [
            "Finished in 50 iterations\n"
          ]
        },
        {
          "output_type": "stream",
          "name": "stderr",
          "text": [
            "  6%|▌         | 57/1000 [00:02<00:44, 21.17it/s]\n"
          ]
        },
        {
          "output_type": "stream",
          "name": "stdout",
          "text": [
            "Finished in 57 iterations\n"
          ]
        },
        {
          "output_type": "stream",
          "name": "stderr",
          "text": [
            " 11%|█▏        | 114/1000 [00:11<01:25, 10.32it/s]\n"
          ]
        },
        {
          "output_type": "stream",
          "name": "stdout",
          "text": [
            "Finished in 114 iterations\n"
          ]
        },
        {
          "output_type": "stream",
          "name": "stderr",
          "text": [
            " 11%|█         | 107/1000 [01:20<11:12,  1.33it/s]\n"
          ]
        },
        {
          "output_type": "stream",
          "name": "stdout",
          "text": [
            "Finished in 107 iterations\n"
          ]
        },
        {
          "output_type": "stream",
          "name": "stderr",
          "text": [
            " 10%|▉         | 97/1000 [00:00<00:05, 170.25it/s]\n"
          ]
        },
        {
          "output_type": "stream",
          "name": "stdout",
          "text": [
            "Finished in 97 iterations\n"
          ]
        },
        {
          "output_type": "stream",
          "name": "stderr",
          "text": [
            "  6%|▋         | 65/1000 [00:00<00:13, 67.05it/s]\n"
          ]
        },
        {
          "output_type": "stream",
          "name": "stdout",
          "text": [
            "Finished in 65 iterations\n"
          ]
        },
        {
          "output_type": "stream",
          "name": "stderr",
          "text": [
            "  5%|▍         | 46/1000 [00:00<00:15, 60.03it/s]\n"
          ]
        },
        {
          "output_type": "stream",
          "name": "stdout",
          "text": [
            "Finished in 46 iterations\n"
          ]
        },
        {
          "output_type": "stream",
          "name": "stderr",
          "text": [
            "  6%|▌         | 56/1000 [00:01<00:18, 51.88it/s]\n"
          ]
        },
        {
          "output_type": "stream",
          "name": "stdout",
          "text": [
            "Finished in 56 iterations\n"
          ]
        },
        {
          "output_type": "stream",
          "name": "stderr",
          "text": [
            "  4%|▍         | 43/1000 [00:01<00:22, 42.28it/s]\n"
          ]
        },
        {
          "output_type": "stream",
          "name": "stdout",
          "text": [
            "Finished in 43 iterations\n"
          ]
        },
        {
          "output_type": "stream",
          "name": "stderr",
          "text": [
            "  6%|▌         | 58/1000 [00:01<00:25, 37.00it/s]\n"
          ]
        },
        {
          "output_type": "stream",
          "name": "stdout",
          "text": [
            "Finished in 58 iterations\n"
          ]
        },
        {
          "output_type": "stream",
          "name": "stderr",
          "text": [
            "  5%|▍         | 48/1000 [00:01<00:33, 28.02it/s]\n"
          ]
        },
        {
          "output_type": "stream",
          "name": "stdout",
          "text": [
            "Finished in 48 iterations\n"
          ]
        },
        {
          "output_type": "stream",
          "name": "stderr",
          "text": [
            "  6%|▌         | 62/1000 [00:02<00:44, 21.02it/s]\n"
          ]
        },
        {
          "output_type": "stream",
          "name": "stdout",
          "text": [
            "Finished in 62 iterations\n"
          ]
        },
        {
          "output_type": "stream",
          "name": "stderr",
          "text": [
            "  5%|▍         | 48/1000 [00:04<01:33, 10.16it/s]\n"
          ]
        },
        {
          "output_type": "stream",
          "name": "stdout",
          "text": [
            "Finished in 48 iterations\n"
          ]
        },
        {
          "output_type": "stream",
          "name": "stderr",
          "text": [
            " 13%|█▎        | 126/1000 [01:36<11:11,  1.30it/s]\n"
          ]
        },
        {
          "output_type": "stream",
          "name": "stdout",
          "text": [
            "Finished in 126 iterations\n"
          ]
        },
        {
          "output_type": "stream",
          "name": "stderr",
          "text": [
            " 11%|█         | 106/1000 [00:00<00:05, 174.97it/s]\n"
          ]
        },
        {
          "output_type": "stream",
          "name": "stdout",
          "text": [
            "Finished in 106 iterations\n"
          ]
        },
        {
          "output_type": "stream",
          "name": "stderr",
          "text": [
            "  6%|▌         | 55/1000 [00:00<00:13, 68.24it/s]\n"
          ]
        },
        {
          "output_type": "stream",
          "name": "stdout",
          "text": [
            "Finished in 55 iterations\n"
          ]
        },
        {
          "output_type": "stream",
          "name": "stderr",
          "text": [
            "  8%|▊         | 78/1000 [00:01<00:15, 60.35it/s]\n"
          ]
        },
        {
          "output_type": "stream",
          "name": "stdout",
          "text": [
            "Finished in 78 iterations\n"
          ]
        },
        {
          "output_type": "stream",
          "name": "stderr",
          "text": [
            "  4%|▍         | 41/1000 [00:00<00:18, 52.59it/s]\n"
          ]
        },
        {
          "output_type": "stream",
          "name": "stdout",
          "text": [
            "Finished in 41 iterations\n"
          ]
        },
        {
          "output_type": "stream",
          "name": "stderr",
          "text": [
            "  6%|▌         | 60/1000 [00:01<00:21, 43.39it/s]\n"
          ]
        },
        {
          "output_type": "stream",
          "name": "stdout",
          "text": [
            "Finished in 60 iterations\n"
          ]
        },
        {
          "output_type": "stream",
          "name": "stderr",
          "text": [
            "  5%|▌         | 53/1000 [00:01<00:25, 36.77it/s]\n"
          ]
        },
        {
          "output_type": "stream",
          "name": "stdout",
          "text": [
            "Finished in 53 iterations\n"
          ]
        },
        {
          "output_type": "stream",
          "name": "stderr",
          "text": [
            "  6%|▋         | 63/1000 [00:02<00:33, 28.06it/s]\n"
          ]
        },
        {
          "output_type": "stream",
          "name": "stdout",
          "text": [
            "Finished in 63 iterations\n"
          ]
        },
        {
          "output_type": "stream",
          "name": "stderr",
          "text": [
            "  6%|▋         | 64/1000 [00:03<00:44, 21.12it/s]\n"
          ]
        },
        {
          "output_type": "stream",
          "name": "stdout",
          "text": [
            "Finished in 64 iterations\n"
          ]
        },
        {
          "output_type": "stream",
          "name": "stderr",
          "text": [
            "  8%|▊         | 81/1000 [00:08<01:37,  9.43it/s]\n"
          ]
        },
        {
          "output_type": "stream",
          "name": "stdout",
          "text": [
            "Finished in 81 iterations\n"
          ]
        },
        {
          "output_type": "stream",
          "name": "stderr",
          "text": [
            "  8%|▊         | 75/1000 [00:55<11:26,  1.35it/s]\n"
          ]
        },
        {
          "output_type": "stream",
          "name": "stdout",
          "text": [
            "Finished in 75 iterations\n"
          ]
        },
        {
          "output_type": "stream",
          "name": "stderr",
          "text": [
            "  6%|▋         | 64/1000 [00:00<00:05, 170.58it/s]\n"
          ]
        },
        {
          "output_type": "stream",
          "name": "stdout",
          "text": [
            "Finished in 64 iterations\n"
          ]
        },
        {
          "output_type": "stream",
          "name": "stderr",
          "text": [
            "  5%|▍         | 48/1000 [00:00<00:14, 66.97it/s]\n"
          ]
        },
        {
          "output_type": "stream",
          "name": "stdout",
          "text": [
            "Finished in 48 iterations\n"
          ]
        },
        {
          "output_type": "stream",
          "name": "stderr",
          "text": [
            "  5%|▌         | 54/1000 [00:00<00:16, 58.66it/s]\n"
          ]
        },
        {
          "output_type": "stream",
          "name": "stdout",
          "text": [
            "Finished in 54 iterations\n"
          ]
        },
        {
          "output_type": "stream",
          "name": "stderr",
          "text": [
            "  9%|▊         | 87/1000 [00:01<00:17, 53.07it/s]\n"
          ]
        },
        {
          "output_type": "stream",
          "name": "stdout",
          "text": [
            "Finished in 87 iterations\n"
          ]
        },
        {
          "output_type": "stream",
          "name": "stderr",
          "text": [
            "  3%|▎         | 32/1000 [00:00<00:22, 42.70it/s]\n"
          ]
        },
        {
          "output_type": "stream",
          "name": "stdout",
          "text": [
            "Finished in 32 iterations\n"
          ]
        },
        {
          "output_type": "stream",
          "name": "stderr",
          "text": [
            "  5%|▍         | 46/1000 [00:01<00:26, 36.56it/s]\n"
          ]
        },
        {
          "output_type": "stream",
          "name": "stdout",
          "text": [
            "Finished in 46 iterations\n"
          ]
        },
        {
          "output_type": "stream",
          "name": "stderr",
          "text": [
            "  6%|▌         | 57/1000 [00:02<00:33, 28.18it/s]\n"
          ]
        },
        {
          "output_type": "stream",
          "name": "stdout",
          "text": [
            "Finished in 57 iterations\n"
          ]
        },
        {
          "output_type": "stream",
          "name": "stderr",
          "text": [
            "  8%|▊         | 80/1000 [00:03<00:43, 20.94it/s]\n"
          ]
        },
        {
          "output_type": "stream",
          "name": "stdout",
          "text": [
            "Finished in 80 iterations\n"
          ]
        },
        {
          "output_type": "stream",
          "name": "stderr",
          "text": [
            "  5%|▍         | 46/1000 [00:04<01:30, 10.55it/s]\n"
          ]
        },
        {
          "output_type": "stream",
          "name": "stdout",
          "text": [
            "Finished in 46 iterations\n"
          ]
        },
        {
          "output_type": "stream",
          "name": "stderr",
          "text": [
            "  6%|▌         | 57/1000 [00:42<11:45,  1.34it/s]\n"
          ]
        },
        {
          "output_type": "stream",
          "name": "stdout",
          "text": [
            "Finished in 57 iterations\n"
          ]
        },
        {
          "output_type": "stream",
          "name": "stderr",
          "text": [
            " 10%|█         | 102/1000 [00:00<00:05, 170.39it/s]\n"
          ]
        },
        {
          "output_type": "stream",
          "name": "stdout",
          "text": [
            "Finished in 102 iterations\n"
          ]
        },
        {
          "output_type": "stream",
          "name": "stderr",
          "text": [
            "  9%|▉         | 89/1000 [00:01<00:13, 67.75it/s]\n"
          ]
        },
        {
          "output_type": "stream",
          "name": "stdout",
          "text": [
            "Finished in 89 iterations\n"
          ]
        },
        {
          "output_type": "stream",
          "name": "stderr",
          "text": [
            "  8%|▊         | 83/1000 [00:01<00:15, 59.05it/s]\n"
          ]
        },
        {
          "output_type": "stream",
          "name": "stdout",
          "text": [
            "Finished in 83 iterations\n"
          ]
        },
        {
          "output_type": "stream",
          "name": "stderr",
          "text": [
            "  5%|▌         | 52/1000 [00:00<00:17, 52.69it/s]\n"
          ]
        },
        {
          "output_type": "stream",
          "name": "stdout",
          "text": [
            "Finished in 52 iterations\n"
          ]
        },
        {
          "output_type": "stream",
          "name": "stderr",
          "text": [
            "  4%|▍         | 44/1000 [00:01<00:22, 42.85it/s]\n"
          ]
        },
        {
          "output_type": "stream",
          "name": "stdout",
          "text": [
            "Finished in 44 iterations\n"
          ]
        },
        {
          "output_type": "stream",
          "name": "stderr",
          "text": [
            "  6%|▋         | 65/1000 [00:01<00:25, 36.91it/s]\n"
          ]
        },
        {
          "output_type": "stream",
          "name": "stdout",
          "text": [
            "Finished in 65 iterations\n"
          ]
        },
        {
          "output_type": "stream",
          "name": "stderr",
          "text": [
            " 11%|█         | 106/1000 [00:03<00:30, 29.58it/s]\n"
          ]
        },
        {
          "output_type": "stream",
          "name": "stdout",
          "text": [
            "Finished in 106 iterations\n"
          ]
        },
        {
          "output_type": "stream",
          "name": "stderr",
          "text": [
            "  5%|▌         | 50/1000 [00:02<00:45, 20.94it/s]\n"
          ]
        },
        {
          "output_type": "stream",
          "name": "stdout",
          "text": [
            "Finished in 50 iterations\n"
          ]
        },
        {
          "output_type": "stream",
          "name": "stderr",
          "text": [
            "  5%|▍         | 46/1000 [00:04<01:32, 10.30it/s]\n"
          ]
        },
        {
          "output_type": "stream",
          "name": "stdout",
          "text": [
            "Finished in 46 iterations\n"
          ]
        },
        {
          "output_type": "stream",
          "name": "stderr",
          "text": [
            "  5%|▍         | 48/1000 [00:35<11:53,  1.34it/s]\n"
          ]
        },
        {
          "output_type": "stream",
          "name": "stdout",
          "text": [
            "Finished in 48 iterations\n"
          ]
        },
        {
          "output_type": "stream",
          "name": "stderr",
          "text": [
            "  5%|▌         | 54/1000 [00:00<00:05, 170.81it/s]\n"
          ]
        },
        {
          "output_type": "stream",
          "name": "stdout",
          "text": [
            "Finished in 54 iterations\n"
          ]
        },
        {
          "output_type": "stream",
          "name": "stderr",
          "text": [
            "  9%|▊         | 87/1000 [00:01<00:13, 67.83it/s]\n"
          ]
        },
        {
          "output_type": "stream",
          "name": "stdout",
          "text": [
            "Finished in 87 iterations\n"
          ]
        },
        {
          "output_type": "stream",
          "name": "stderr",
          "text": [
            " 16%|█▌        | 158/1000 [00:02<00:13, 60.28it/s]\n"
          ]
        },
        {
          "output_type": "stream",
          "name": "stdout",
          "text": [
            "Finished in 158 iterations\n"
          ]
        },
        {
          "output_type": "stream",
          "name": "stderr",
          "text": [
            "  5%|▍         | 49/1000 [00:00<00:18, 52.33it/s]\n"
          ]
        },
        {
          "output_type": "stream",
          "name": "stdout",
          "text": [
            "Finished in 49 iterations\n"
          ]
        },
        {
          "output_type": "stream",
          "name": "stderr",
          "text": [
            "  9%|▊         | 86/1000 [00:01<00:21, 43.17it/s]\n"
          ]
        },
        {
          "output_type": "stream",
          "name": "stdout",
          "text": [
            "Finished in 86 iterations\n"
          ]
        },
        {
          "output_type": "stream",
          "name": "stderr",
          "text": [
            "  5%|▌         | 50/1000 [00:01<00:25, 36.92it/s]\n"
          ]
        },
        {
          "output_type": "stream",
          "name": "stdout",
          "text": [
            "Finished in 50 iterations\n"
          ]
        },
        {
          "output_type": "stream",
          "name": "stderr",
          "text": [
            "  7%|▋         | 66/1000 [00:02<00:33, 27.82it/s]\n"
          ]
        },
        {
          "output_type": "stream",
          "name": "stdout",
          "text": [
            "Finished in 66 iterations\n"
          ]
        },
        {
          "output_type": "stream",
          "name": "stderr",
          "text": [
            " 11%|█▏        | 113/1000 [00:05<00:42, 20.65it/s]\n"
          ]
        },
        {
          "output_type": "stream",
          "name": "stdout",
          "text": [
            "Finished in 113 iterations\n"
          ]
        },
        {
          "output_type": "stream",
          "name": "stderr",
          "text": [
            " 18%|█▊        | 183/1000 [00:17<01:17, 10.59it/s]\n"
          ]
        },
        {
          "output_type": "stream",
          "name": "stdout",
          "text": [
            "Finished in 183 iterations\n"
          ]
        },
        {
          "output_type": "stream",
          "name": "stderr",
          "text": [
            " 20%|██        | 202/1000 [02:29<09:50,  1.35it/s]\n"
          ]
        },
        {
          "output_type": "stream",
          "name": "stdout",
          "text": [
            "Finished in 202 iterations\n"
          ]
        },
        {
          "output_type": "stream",
          "name": "stderr",
          "text": [
            "  8%|▊         | 77/1000 [00:00<00:05, 178.66it/s]\n"
          ]
        },
        {
          "output_type": "stream",
          "name": "stdout",
          "text": [
            "Finished in 77 iterations\n"
          ]
        },
        {
          "output_type": "stream",
          "name": "stderr",
          "text": [
            " 14%|█▎        | 135/1000 [00:02<00:12, 66.72it/s]\n"
          ]
        },
        {
          "output_type": "stream",
          "name": "stdout",
          "text": [
            "Finished in 135 iterations\n"
          ]
        },
        {
          "output_type": "stream",
          "name": "stderr",
          "text": [
            "  5%|▍         | 49/1000 [00:00<00:16, 58.64it/s]\n"
          ]
        },
        {
          "output_type": "stream",
          "name": "stdout",
          "text": [
            "Finished in 49 iterations\n"
          ]
        },
        {
          "output_type": "stream",
          "name": "stderr",
          "text": [
            "  3%|▎         | 28/1000 [00:00<00:18, 51.40it/s]\n"
          ]
        },
        {
          "output_type": "stream",
          "name": "stdout",
          "text": [
            "Finished in 28 iterations\n"
          ]
        },
        {
          "output_type": "stream",
          "name": "stderr",
          "text": [
            "  6%|▌         | 60/1000 [00:01<00:21, 43.05it/s]\n"
          ]
        },
        {
          "output_type": "stream",
          "name": "stdout",
          "text": [
            "Finished in 60 iterations\n"
          ]
        },
        {
          "output_type": "stream",
          "name": "stderr",
          "text": [
            "  5%|▍         | 49/1000 [00:01<00:25, 36.89it/s]\n"
          ]
        },
        {
          "output_type": "stream",
          "name": "stdout",
          "text": [
            "Finished in 49 iterations\n"
          ]
        },
        {
          "output_type": "stream",
          "name": "stderr",
          "text": [
            "  4%|▎         | 35/1000 [00:01<00:34, 27.89it/s]\n"
          ]
        },
        {
          "output_type": "stream",
          "name": "stdout",
          "text": [
            "Finished in 35 iterations\n"
          ]
        },
        {
          "output_type": "stream",
          "name": "stderr",
          "text": [
            " 21%|██        | 207/1000 [00:09<00:36, 21.44it/s]\n"
          ]
        },
        {
          "output_type": "stream",
          "name": "stdout",
          "text": [
            "Finished in 207 iterations\n"
          ]
        },
        {
          "output_type": "stream",
          "name": "stderr",
          "text": [
            "  3%|▎         | 34/1000 [00:03<01:32, 10.45it/s]\n"
          ]
        },
        {
          "output_type": "stream",
          "name": "stdout",
          "text": [
            "Finished in 34 iterations\n"
          ]
        },
        {
          "output_type": "stream",
          "name": "stderr",
          "text": [
            "  4%|▍         | 45/1000 [00:33<11:50,  1.34it/s]\n"
          ]
        },
        {
          "output_type": "stream",
          "name": "stdout",
          "text": [
            "Finished in 45 iterations\n"
          ]
        },
        {
          "output_type": "stream",
          "name": "stderr",
          "text": [
            " 11%|█▏        | 113/1000 [00:00<00:05, 174.90it/s]\n"
          ]
        },
        {
          "output_type": "stream",
          "name": "stdout",
          "text": [
            "Finished in 113 iterations\n"
          ]
        },
        {
          "output_type": "stream",
          "name": "stderr",
          "text": [
            "  6%|▌         | 60/1000 [00:00<00:13, 67.23it/s]\n"
          ]
        },
        {
          "output_type": "stream",
          "name": "stdout",
          "text": [
            "Finished in 60 iterations\n"
          ]
        },
        {
          "output_type": "stream",
          "name": "stderr",
          "text": [
            "  5%|▌         | 51/1000 [00:00<00:16, 57.80it/s]\n"
          ]
        },
        {
          "output_type": "stream",
          "name": "stdout",
          "text": [
            "Finished in 51 iterations\n"
          ]
        },
        {
          "output_type": "stream",
          "name": "stderr",
          "text": [
            "  4%|▍         | 45/1000 [00:00<00:18, 52.03it/s]\n"
          ]
        },
        {
          "output_type": "stream",
          "name": "stdout",
          "text": [
            "Finished in 45 iterations\n"
          ]
        },
        {
          "output_type": "stream",
          "name": "stderr",
          "text": [
            "  5%|▍         | 49/1000 [00:01<00:22, 43.04it/s]\n"
          ]
        },
        {
          "output_type": "stream",
          "name": "stdout",
          "text": [
            "Finished in 49 iterations\n"
          ]
        },
        {
          "output_type": "stream",
          "name": "stderr",
          "text": [
            "  4%|▍         | 40/1000 [00:01<00:26, 36.65it/s]\n"
          ]
        },
        {
          "output_type": "stream",
          "name": "stdout",
          "text": [
            "Finished in 40 iterations\n"
          ]
        },
        {
          "output_type": "stream",
          "name": "stderr",
          "text": [
            "  5%|▍         | 48/1000 [00:01<00:33, 28.21it/s]\n"
          ]
        },
        {
          "output_type": "stream",
          "name": "stdout",
          "text": [
            "Finished in 48 iterations\n"
          ]
        },
        {
          "output_type": "stream",
          "name": "stderr",
          "text": [
            "  6%|▌         | 55/1000 [00:02<00:44, 21.43it/s]\n"
          ]
        },
        {
          "output_type": "stream",
          "name": "stdout",
          "text": [
            "Finished in 55 iterations\n"
          ]
        },
        {
          "output_type": "stream",
          "name": "stderr",
          "text": [
            "  6%|▌         | 60/1000 [00:05<01:29, 10.49it/s]\n"
          ]
        },
        {
          "output_type": "stream",
          "name": "stdout",
          "text": [
            "Finished in 60 iterations\n"
          ]
        },
        {
          "output_type": "stream",
          "name": "stderr",
          "text": [
            "  8%|▊         | 85/1000 [01:07<12:04,  1.26it/s]\n"
          ]
        },
        {
          "output_type": "stream",
          "name": "stdout",
          "text": [
            "Finished in 85 iterations\n"
          ]
        },
        {
          "output_type": "stream",
          "name": "stderr",
          "text": [
            "  4%|▍         | 43/1000 [00:00<00:05, 168.07it/s]\n"
          ]
        },
        {
          "output_type": "stream",
          "name": "stdout",
          "text": [
            "Finished in 43 iterations\n"
          ]
        },
        {
          "output_type": "stream",
          "name": "stderr",
          "text": [
            " 10%|█         | 100/1000 [00:01<00:13, 68.35it/s]\n"
          ]
        },
        {
          "output_type": "stream",
          "name": "stdout",
          "text": [
            "Finished in 100 iterations\n"
          ]
        },
        {
          "output_type": "stream",
          "name": "stderr",
          "text": [
            "  6%|▋         | 63/1000 [00:01<00:16, 57.47it/s]\n"
          ]
        },
        {
          "output_type": "stream",
          "name": "stdout",
          "text": [
            "Finished in 63 iterations\n"
          ]
        },
        {
          "output_type": "stream",
          "name": "stderr",
          "text": [
            "  3%|▎         | 30/1000 [00:00<00:18, 51.86it/s]\n"
          ]
        },
        {
          "output_type": "stream",
          "name": "stdout",
          "text": [
            "Finished in 30 iterations\n"
          ]
        },
        {
          "output_type": "stream",
          "name": "stderr",
          "text": [
            "  7%|▋         | 67/1000 [00:01<00:21, 42.83it/s]\n"
          ]
        },
        {
          "output_type": "stream",
          "name": "stdout",
          "text": [
            "Finished in 67 iterations\n"
          ]
        },
        {
          "output_type": "stream",
          "name": "stderr",
          "text": [
            "  4%|▎         | 37/1000 [00:01<00:26, 36.28it/s]\n"
          ]
        },
        {
          "output_type": "stream",
          "name": "stdout",
          "text": [
            "Finished in 37 iterations\n"
          ]
        },
        {
          "output_type": "stream",
          "name": "stderr",
          "text": [
            "  6%|▋         | 63/1000 [00:02<00:34, 27.15it/s]\n"
          ]
        },
        {
          "output_type": "stream",
          "name": "stdout",
          "text": [
            "Finished in 63 iterations\n"
          ]
        },
        {
          "output_type": "stream",
          "name": "stderr",
          "text": [
            "  4%|▍         | 39/1000 [00:03<01:20, 11.99it/s]\n"
          ]
        },
        {
          "output_type": "stream",
          "name": "stdout",
          "text": [
            "Finished in 39 iterations\n"
          ]
        },
        {
          "output_type": "stream",
          "name": "stderr",
          "text": [
            "  4%|▍         | 43/1000 [00:04<01:34, 10.17it/s]\n"
          ]
        },
        {
          "output_type": "stream",
          "name": "stdout",
          "text": [
            "Finished in 43 iterations\n"
          ]
        },
        {
          "output_type": "stream",
          "name": "stderr",
          "text": [
            "  4%|▍         | 41/1000 [00:32<12:39,  1.26it/s]"
          ]
        },
        {
          "output_type": "stream",
          "name": "stdout",
          "text": [
            "Finished in 41 iterations\n"
          ]
        },
        {
          "output_type": "stream",
          "name": "stderr",
          "text": [
            "\n"
          ]
        }
      ]
    },
    {
      "cell_type": "code",
      "source": [
        "dur_mu= np.mean(durations, axis=0)\n",
        "it_mu = np.mean(iters, axis=0)\n",
        "rs_mu = np.mean(rand_scores, axis=0)"
      ],
      "metadata": {
        "id": "Ob05mtyqSINE"
      },
      "execution_count": null,
      "outputs": []
    },
    {
      "cell_type": "code",
      "source": [
        "#for i in range(10):\n",
        "  #plt.plot(var_expl, np.divide(np.array(iters[i, :]),np.array(durations[i, :])),\"tab:orange\", alpha=0.25)\n",
        "plt.plot(var_expl, np.divide(it_mu,dur_mu), marker='o', label=\"Mean\")\n",
        "plt.legend()\n",
        "plt.title('Variance Explained vs. Iterations per second')\n",
        "plt.xlabel('Variance Explained')\n",
        "plt.ylabel('Iterations per second')\n",
        "\n",
        "plt.figure()\n",
        "#for i in range(10):\n",
        "  #plt.plot(var_expl, durations[i, :],\"tab:orange\", alpha=0.25)\n",
        "plt.plot(var_expl, dur_mu, marker='o', label=\"Mean\")\n",
        "plt.legend()\n",
        "plt.title('Variance Explained vs. Duration')\n",
        "plt.xlabel('Variance Explained')\n",
        "plt.ylabel('Total Duration (seconds)')\n",
        "\n",
        "\n",
        "plt.figure()\n",
        "for i in range(10):\n",
        "  plt.plot(var_expl, rand_scores[i, :], \"tab:orange\", alpha=0.25)\n",
        "plt.plot(var_expl, rs_mu, marker='o', label=\"Mean\")\n",
        "plt.legend()\n",
        "plt.title('Variance Explained vs. Adjusted Rand Score')\n",
        "plt.xlabel('Variance Explained')\n",
        "plt.ylabel('Adjusted Rand Score')\n",
        "\n",
        "\n",
        "plt.figure()\n",
        "num_pca_comp = []\n",
        "\n",
        "for expl in var_expl:\n",
        "  num_pca_comp.append(np.argmax(np.array(cum_eig)>expl))\n",
        "\n",
        "num_pca_comp[-1] = 784\n",
        "\n",
        "plt.plot(num_pca_comp, dur_mu, marker='o')\n",
        "plt.title('# PCA Components vs. Duration')\n",
        "plt.ylabel('Duration (Seconds)')\n",
        "plt.xlabel('# PCA Components')\n",
        "\n",
        "plt.figure()\n",
        "plt.plot(num_pca_comp,np.divide(it_mu,dur_mu), marker='o')\n",
        "plt.title('# PCA Components vs. Iterations/Second')\n",
        "plt.ylabel('Iterations/Second')\n",
        "plt.xlabel('# PCA Components')\n",
        "\n",
        "plt.figure()\n",
        "plt.axis('off')\n",
        "plt.axis('tight')\n",
        "plt.table(np.array([var_expl, num_pca_comp]).transpose(), colLabels=['Variance Captured', '#PCA Components'])"
      ],
      "metadata": {
        "colab": {
          "base_uri": "https://localhost:8080/",
          "height": 1000
        },
        "id": "JxOyd2shKSrR",
        "outputId": "366a5ac4-2eaa-4f04-f98d-73a91e064fba"
      },
      "execution_count": null,
      "outputs": [
        {
          "output_type": "execute_result",
          "data": {
            "text/plain": [
              "<matplotlib.table.Table at 0x7fc7cdb68150>"
            ]
          },
          "metadata": {},
          "execution_count": 12
        },
        {
          "output_type": "display_data",
          "data": {
            "text/plain": [
              "<Figure size 432x288 with 1 Axes>"
            ],
            "image/png": "[encoded data removed]"
          },
          "metadata": {
            "needs_background": "light"
          }
        },
        {
          "output_type": "display_data",
          "data": {
            "text/plain": [
              "<Figure size 432x288 with 1 Axes>"
            ],
            "image/png": "[encoded data removed]"
          },
          "metadata": {
            "needs_background": "light"
          }
        },
        {
          "output_type": "display_data",
          "data": {
            "text/plain": [
              "<Figure size 432x288 with 1 Axes>"
            ],
            "image/png": "[encoded data removed]"
          },
          "metadata": {
            "needs_background": "light"
          }
        },
        {
          "output_type": "display_data",
          "data": {
            "text/plain": [
              "<Figure size 432x288 with 1 Axes>"
            ],
            "image/png": "[encoded data removed]"
          },
          "metadata": {
            "needs_background": "light"
          }
        },
        {
          "output_type": "display_data",
          "data": {
            "text/plain": [
              "<Figure size 432x288 with 1 Axes>"
            ],
            "image/png": "[encoded data removed]"
          },
          "metadata": {
            "needs_background": "light"
          }
        },
        {
          "output_type": "display_data",
          "data": {
            "text/plain": [
              "<Figure size 432x288 with 1 Axes>"
            ],
            "image/png": "[encoded data removed]"
          },
          "metadata": {
            "needs_background": "light"
          }
        }
      ]
    },
    {
      "cell_type": "code",
      "source": [
        "Kmus_100, cl_100, _ = runKMeans(transformed_data, 10)\n",
        "\n",
        "Kmus_50, cl_50, _ = runKMeans(transformed_data[:, :np.argmax(np.array(cum_eig)>0.5)], 10)\n",
        "\n",
        "Kmus_10, cl_10, _ = runKMeans(transformed_data[:, :np.argmax(np.array(cum_eig)>0.1)], 10)"
      ],
      "metadata": {
        "id": "RU-2u1YU5NEH"
      },
      "execution_count": null,
      "outputs": []
    },
    {
      "cell_type": "code",
      "source": [
        "def reconstruct_PCA(pca_scores, eigvects, mu):\n",
        "    original = np.dot(pca_scores, (eigvects[:, :pca_scores.shape[1]]).T) + mu\n",
        "    return original\n",
        "\n",
        "orig_mus100 = reconstruct_PCA(Kmus_100, eigenvectors, mean_num)\n",
        "get_cluster_plot(orig_mus100)\n",
        "\n",
        "orig_mus50 = reconstruct_PCA(Kmus_50, eigenvectors, mean_num)\n",
        "plt.figure()\n",
        "get_cluster_plot(np.clip(orig_mus50, a_min=0, a_max=1))\n",
        "\n",
        "orig_mus5= reconstruct_PCA(Kmus_10, eigenvectors, mean_num)\n",
        "plt.figure()\n",
        "get_cluster_plot(np.clip(orig_mus5, a_min=0, a_max=1))"
      ],
      "metadata": {
        "colab": {
          "base_uri": "https://localhost:8080/",
          "height": 1000
        },
        "id": "eql8e5LNcCIc",
        "outputId": "c33d164a-f5bf-4bbf-ea65-4bd9a445e296"
      },
      "execution_count": null,
      "outputs": [
        {
          "output_type": "display_data",
          "data": {
            "image/png": "[encoded data removed]",
            "text/plain": [
              "<Figure size 1080x648 with 10 Axes>"
            ]
          },
          "metadata": {
            "needs_background": "light"
          }
        },
        {
          "output_type": "display_data",
          "data": {
            "text/plain": [
              "<Figure size 432x288 with 0 Axes>"
            ]
          },
          "metadata": {}
        },
        {
          "output_type": "display_data",
          "data": {
            "image/png": "[encoded data removed]",
            "text/plain": [
              "<Figure size 1080x648 with 10 Axes>"
            ]
          },
          "metadata": {
            "needs_background": "light"
          }
        },
        {
          "output_type": "display_data",
          "data": {
            "text/plain": [
              "<Figure size 432x288 with 0 Axes>"
            ]
          },
          "metadata": {}
        },
        {
          "output_type": "display_data",
          "data": {
            "image/png": "[encoded data removed]",
            "text/plain": [
              "<Figure size 1080x648 with 10 Axes>"
            ]
          },
          "metadata": {
            "needs_background": "light"
          }
        }
      ]
    },
    {
      "cell_type": "code",
      "source": [
        ""
      ],
      "metadata": {
        "id": "m__VBxgWGRUB"
      },
      "execution_count": null,
      "outputs": []
    }
  ]
}